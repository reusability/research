{
 "cells": [
  {
   "cell_type": "code",
   "execution_count": 22,
   "metadata": {},
   "outputs": [],
   "source": [
    "#all imports\n",
    "# import local modules.\n",
    "\n",
    "from model.support_vector_machine import SupportVectorMachine\n",
    "from utils import data_loader, pre_training_analysis_tools \n",
    "from sklearn import svm\n",
    "from sklearn.svm import SVC\n",
    "import pandas as pd\n",
    "import matplotlib.pyplot as plt\n",
    "import numpy as np\n",
    "import seaborn as sns\n",
    "import sklearn\n",
    "from sklearn.model_selection import RepeatedStratifiedKFold\n",
    "from sklearn.model_selection import GridSearchCV\n",
    "from sklearn.metrics import confusion_matrix\n",
    "from sklearn.metrics import accuracy_score\n",
    "from sklearn.metrics import roc_auc_score\n",
    "from sklearn.metrics import classification_report\n",
    "from skopt.space import Real, Categorical, Integer\n",
    "\n",
    "\n",
    "\n",
    "\n"
   ]
  },
  {
   "cell_type": "code",
   "execution_count": 4,
   "metadata": {},
   "outputs": [
    {
     "name": "stdout",
     "output_type": "stream",
     "text": [
      ">> initialising model...\n",
      ">> training model...\n",
      ">> describing model...\n",
      ">> predicting test data...\n",
      ">> assessing prediction performance...\n",
      "ESS: 30\n",
      "RSS: 8\n",
      "TSS: 72\n",
      "R-squared: 0.89\n",
      "correlation: -0.58\n",
      "0.5370370370370371\n",
      "Accuracy: 0.45 (+/- 0.11)\n",
      "Accuracy: 0.55 (+/- 0.22)\n",
      "              precision    recall  f1-score   support\n",
      "\n",
      "         1.0       0.46      0.61      0.52        18\n",
      "         2.0       0.60      0.75      0.67        24\n",
      "         3.0       0.00      0.00      0.00        12\n",
      "\n",
      "    accuracy                           0.54        54\n",
      "   macro avg       0.35      0.45      0.40        54\n",
      "weighted avg       0.42      0.54      0.47        54\n",
      "\n"
     ]
    },
    {
     "name": "stderr",
     "output_type": "stream",
     "text": [
      "/Library/Frameworks/Python.framework/Versions/3.7/lib/python3.7/site-packages/sklearn/metrics/_classification.py:1221: UndefinedMetricWarning: Precision and F-score are ill-defined and being set to 0.0 in labels with no predicted samples. Use `zero_division` parameter to control this behavior.\n",
      "  _warn_prf(average, modifier, msg_start, len(result))\n"
     ]
    },
    {
     "data": {
      "image/png": "[encoded data removed]",
      "text/plain": [
       "<Figure size 432x288 with 1 Axes>"
      ]
     },
     "metadata": {
      "needs_background": "light"
     },
     "output_type": "display_data"
    }
   ],
   "source": [
    "data = data_loader.load_real_dataset(remove_multicollinearity=False, wrapper_svm=True)\n",
    "\n",
    "data_x = data['train_x']\n",
    "data_y = data['train_y']\n",
    "test_x = data['test_x']\n",
    "test_y = data['test_y']\n",
    "\n",
    "# determine which model we are using.\n",
    "\n",
    "# mo = svm.SVC(C=8,gamma=6,kernel='rbf')\n",
    "mo = svm.SVC()\n",
    "\n",
    "model = SupportVectorMachine(data, normalize=True, model = mo)\n",
    "#model.hyperparameter_tuning()\n",
    "model.train()\n",
    "model.describe()\n",
    "model.test()\n",
    "\n"
   ]
  },
  {
   "cell_type": "code",
   "execution_count": 30,
   "metadata": {},
   "outputs": [
    {
     "name": "stdout",
     "output_type": "stream",
     "text": [
      "The best parameters are {'C': 1e-16, 'kernel': 'rbf'} with a score of 0.44\n",
      "<bound method NDFrame.head of               C kernel  accuracy\n",
      "0  1.000000e-16    rbf  0.439785\n",
      "1  1.000000e-06    rbf  0.439785\n",
      "2  1.000000e-04    rbf  0.439785\n",
      "3  5.000000e-04    rbf  0.439785\n",
      "4  1.000000e-03    rbf  0.439785\n",
      "5  5.000000e-03    rbf  0.439785\n",
      "6  1.000000e-02    rbf  0.439785\n",
      "7  1.000000e+00    rbf  0.425008>\n"
     ]
    }
   ],
   "source": [
    "model = SVC()\n",
    "\n",
    "cv = RepeatedStratifiedKFold(n_splits=7, n_repeats=5, random_state=1)\n",
    "\n",
    "# Defines the parameter search space\n",
    "param_grid = {\n",
    "                'C': (0.001,1),  \n",
    "                'gamma': Real(0.001,10), \n",
    "                'kernel': ['rbf'],\n",
    "            }\n",
    "\n",
    "# Set all the variables for the grid search cross validation \n",
    "search = GridSearchCV(estimator=model, param_grid=param_grid, cv=cv, n_jobs=-1, scoring='accuracy')\n",
    "\n",
    "# perform the search - i.e. it fits the model on the training data set for the different hyper-parameter settings\n",
    "search_result = search.fit(data_x, data_y)\n",
    "\n",
    "# Prints the results - optimal hyper-parameters and the accuracy score\n",
    "print(\"The best parameters are %s with a score of %0.2f\"\n",
    "    % (search_result.best_params_, search_result.best_score_))\n",
    "\n",
    "# Displays all of the hyper-parameters combination in descending order of accuracy score\n",
    "grid_results = pd.concat([pd.DataFrame(search_result.cv_results_[\"params\"]),pd.DataFrame(search_result.cv_results_[\"mean_test_score\"], columns=[\"accuracy\"])],axis=1)\n",
    "grid_results.sort_values(by=['accuracy'], inplace=True, ascending=False)\n",
    "print(grid_results.head)\n",
    "\n"
   ]
  },
  {
   "cell_type": "code",
   "execution_count": null,
   "metadata": {},
   "outputs": [],
   "source": []
  },
  {
   "cell_type": "code",
   "execution_count": 13,
   "metadata": {},
   "outputs": [
    {
     "ename": "TypeError",
     "evalue": "'float' object cannot be interpreted as an integer",
     "output_type": "error",
     "traceback": [
      "\u001b[0;31m---------------------------------------------------------------------------\u001b[0m",
      "\u001b[0;31mTypeError\u001b[0m                                 Traceback (most recent call last)",
      "\u001b[0;32m<ipython-input-13-c227921b7601>\u001b[0m in \u001b[0;36m<module>\u001b[0;34m\u001b[0m\n\u001b[1;32m      1\u001b[0m \u001b[0merror_rate\u001b[0m \u001b[0;34m=\u001b[0m \u001b[0;34m[\u001b[0m\u001b[0;34m]\u001b[0m\u001b[0;34m\u001b[0m\u001b[0;34m\u001b[0m\u001b[0m\n\u001b[1;32m      2\u001b[0m \u001b[0;31m# Might take some time\u001b[0m\u001b[0;34m\u001b[0m\u001b[0;34m\u001b[0m\u001b[0;34m\u001b[0m\u001b[0m\n\u001b[0;32m----> 3\u001b[0;31m \u001b[0;32mfor\u001b[0m \u001b[0mi\u001b[0m \u001b[0;32min\u001b[0m \u001b[0mrange\u001b[0m\u001b[0;34m(\u001b[0m\u001b[0;36m0.001\u001b[0m\u001b[0;34m,\u001b[0m\u001b[0;36m1\u001b[0m\u001b[0;34m)\u001b[0m\u001b[0;34m:\u001b[0m\u001b[0;34m\u001b[0m\u001b[0;34m\u001b[0m\u001b[0m\n\u001b[0m\u001b[1;32m      4\u001b[0m \u001b[0;34m\u001b[0m\u001b[0m\n\u001b[1;32m      5\u001b[0m     \u001b[0;31m# Set up the hyperparameters\u001b[0m\u001b[0;34m\u001b[0m\u001b[0;34m\u001b[0m\u001b[0;34m\u001b[0m\u001b[0m\n",
      "\u001b[0;31mTypeError\u001b[0m: 'float' object cannot be interpreted as an integer"
     ]
    }
   ],
   "source": [
    "error_rate = []\n",
    "# Might take some time\n",
    "for i in range(0.001,1):\n",
    "    \n",
    "    # Set up the hyperparameters\n",
    "    # Instantiate the metric learner\n",
    "\n",
    "    # Train the metric learner\n",
    "    model = SVC(C=i,gamma=10,kernel='rbf')\n",
    "    model.fit(data_x,data_y)\n",
    "\n",
    "    pred_i = model.predict(test_x)\n",
    "    error_rate.append(np.mean(pred_i != test_y))\n",
    "    \n",
    "plt.figure(figsize=(10,6))\n",
    "plt.plot(range(1,1000),error_rate,color='blue', linestyle='dashed', marker='o',\n",
    "         markerfacecolor='red', markersize=10)\n",
    "\n",
    "# want to choose k with the least error rate\n",
    "plt.title('Error Rate vs. K Value')\n",
    "plt.xlabel('K')\n",
    "plt.ylabel('Error Rate')"
   ]
  },
  {
   "cell_type": "code",
   "execution_count": 33,
   "metadata": {},
   "outputs": [
    {
     "data": {
      "text/plain": [
       "Text(0, 0.5, 'Error Rate')"
      ]
     },
     "execution_count": 33,
     "metadata": {},
     "output_type": "execute_result"
    },
    {
     "data": {
      "image/png": "[encoded data removed]",
      "text/plain": [
       "<Figure size 720x432 with 1 Axes>"
      ]
     },
     "metadata": {
      "needs_background": "light"
     },
     "output_type": "display_data"
    }
   ],
   "source": [
    "error_rate = []\n",
    "# Might take some time\n",
    "for i in range(1,10000):\n",
    "    \n",
    "    # Set up the hyperparameters\n",
    "    # Instantiate the metric learner\n",
    "\n",
    "    # Train the metric learner\n",
    "    model = SVC(C=0.001,gamma=i,kernel='rbf')\n",
    "    model.fit(data_x,data_y)\n",
    "\n",
    "    pred_i = model.predict(test_x)\n",
    "    error_rate.append(np.mean(pred_i != test_y))\n",
    "    \n",
    "plt.figure(figsize=(10,6))\n",
    "plt.plot(range(1,10000),error_rate,color='blue', linestyle='dashed', marker='o',\n",
    "         markerfacecolor='red', markersize=10)\n",
    "\n",
    "# want to choose k with the least error rate\n",
    "plt.title('Error Rate vs. K Value')\n",
    "plt.xlabel('K')\n",
    "plt.ylabel('Error Rate')"
   ]
  },
  {
   "cell_type": "code",
   "execution_count": null,
   "metadata": {},
   "outputs": [],
   "source": []
  }
 ],
 "metadata": {
  "kernelspec": {
   "display_name": "Python 3.7.4 64-bit",
   "language": "python",
   "name": "python37464bit7f1e84062742452e83d5ee685770f253"
  },
  "language_info": {
   "codemirror_mode": {
    "name": "ipython",
    "version": 3
   },
   "file_extension": ".py",
   "mimetype": "text/x-python",
   "name": "python",
   "nbconvert_exporter": "python",
   "pygments_lexer": "ipython3",
   "version": "3.7.4"
  }
 },
 "nbformat": 4,
 "nbformat_minor": 4
}
