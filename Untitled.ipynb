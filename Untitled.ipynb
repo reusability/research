{
 "cells": [
  {
   "cell_type": "code",
   "execution_count": 1,
   "metadata": {},
   "outputs": [],
   "source": [
    "import main        "
   ]
  },
  {
   "cell_type": "code",
   "execution_count": 2,
   "metadata": {
    "scrolled": true
   },
   "outputs": [],
   "source": [
    "main.describe_data()"
   ]
  },
  {
   "cell_type": "code",
   "execution_count": 3,
   "metadata": {},
   "outputs": [
    {
     "name": "stdout",
     "output_type": "stream",
     "text": [
      ">> initialising model...\n",
      ">> training model...\n",
      ">> describing model...\n",
      "KNeighborsClassifier(metric='manhattan', weights='distance')\n",
      ">> predicting test data...\n",
      ">> assessing prediction performance...\n",
      "correlation: 0.42\n",
      "0.0\n",
      "              precision    recall  f1-score   support\n",
      "\n",
      "         0.0       0.00      0.00      0.00       0.0\n",
      "        14.0       0.00      0.00      0.00       0.0\n",
      "        18.0       0.00      0.00      0.00       0.0\n",
      "        23.0       0.00      0.00      0.00       0.0\n",
      "        26.0       0.00      0.00      0.00       0.0\n",
      "        28.0       0.00      0.00      0.00       1.0\n",
      "        29.0       0.00      0.00      0.00       1.0\n",
      "        34.0       0.00      0.00      0.00       1.0\n",
      "        35.0       0.00      0.00      0.00       0.0\n",
      "        36.0       0.00      0.00      0.00       1.0\n",
      "        37.0       0.00      0.00      0.00       1.0\n",
      "        39.0       0.00      0.00      0.00       2.0\n",
      "        40.0       0.00      0.00      0.00       0.0\n",
      "        44.0       0.00      0.00      0.00       0.0\n",
      "        47.0       0.00      0.00      0.00       1.0\n",
      "        48.0       0.00      0.00      0.00       0.0\n",
      "        50.0       0.00      0.00      0.00       2.0\n",
      "        51.0       0.00      0.00      0.00       1.0\n",
      "        58.0       0.00      0.00      0.00       0.0\n",
      "        61.0       0.00      0.00      0.00       1.0\n",
      "        64.0       0.00      0.00      0.00       0.0\n",
      "        69.0       0.00      0.00      0.00       1.0\n",
      "        78.0       0.00      0.00      0.00       0.0\n",
      "       104.0       0.00      0.00      0.00       1.0\n",
      "       107.0       0.00      0.00      0.00       1.0\n",
      "       127.0       0.00      0.00      0.00       0.0\n",
      "       135.0       0.00      0.00      0.00       0.0\n",
      "       178.0       0.00      0.00      0.00       1.0\n",
      "       229.0       0.00      0.00      0.00       1.0\n",
      "       237.0       0.00      0.00      0.00       1.0\n",
      "       266.0       0.00      0.00      0.00       0.0\n",
      "       279.0       0.00      0.00      0.00       1.0\n",
      "       288.0       0.00      0.00      0.00       0.0\n",
      "       304.0       0.00      0.00      0.00       0.0\n",
      "       368.0       0.00      0.00      0.00       0.0\n",
      "       396.0       0.00      0.00      0.00       0.0\n",
      "       398.0       0.00      0.00      0.00       0.0\n",
      "       401.0       0.00      0.00      0.00       1.0\n",
      "       406.0       0.00      0.00      0.00       0.0\n",
      "       409.0       0.00      0.00      0.00       0.0\n",
      "       412.0       0.00      0.00      0.00       0.0\n",
      "       426.0       0.00      0.00      0.00       1.0\n",
      "       429.0       0.00      0.00      0.00       1.0\n",
      "       439.0       0.00      0.00      0.00       1.0\n",
      "       446.0       0.00      0.00      0.00       1.0\n",
      "       557.0       0.00      0.00      0.00       0.0\n",
      "       643.0       0.00      0.00      0.00       1.0\n",
      "       726.0       0.00      0.00      0.00       1.0\n",
      "       799.0       0.00      0.00      0.00       1.0\n",
      "      1572.0       0.00      0.00      0.00       1.0\n",
      "      1694.0       0.00      0.00      0.00       1.0\n",
      "      2085.0       0.00      0.00      0.00       1.0\n",
      "\n",
      "    accuracy                           0.00      30.0\n",
      "   macro avg       0.00      0.00      0.00      30.0\n",
      "weighted avg       0.00      0.00      0.00      30.0\n",
      "\n"
     ]
    },
    {
     "name": "stderr",
     "output_type": "stream",
     "text": [
      "/Library/Frameworks/Python.framework/Versions/3.7/lib/python3.7/site-packages/sklearn/metrics/_classification.py:1221: UndefinedMetricWarning: Precision and F-score are ill-defined and being set to 0.0 in labels with no predicted samples. Use `zero_division` parameter to control this behavior.\n",
      "  _warn_prf(average, modifier, msg_start, len(result))\n",
      "/Library/Frameworks/Python.framework/Versions/3.7/lib/python3.7/site-packages/sklearn/metrics/_classification.py:1221: UndefinedMetricWarning: Recall and F-score are ill-defined and being set to 0.0 in labels with no true samples. Use `zero_division` parameter to control this behavior.\n",
      "  _warn_prf(average, modifier, msg_start, len(result))\n"
     ]
    },
    {
     "data": {
      "image/png": "[encoded data removed]",
      "text/plain": [
       "<Figure size 432x288 with 1 Axes>"
      ]
     },
     "metadata": {
      "needs_background": "light"
     },
     "output_type": "display_data"
    }
   ],
   "source": [
    "main.main()"
   ]
  },
  {
   "cell_type": "code",
   "execution_count": null,
   "metadata": {},
   "outputs": [],
   "source": []
  },
  {
   "cell_type": "code",
   "execution_count": null,
   "metadata": {},
   "outputs": [],
   "source": []
  }
 ],
 "metadata": {
  "kernelspec": {
   "display_name": "Python 3",
   "language": "python",
   "name": "python3"
  },
  "language_info": {
   "codemirror_mode": {
    "name": "ipython",
    "version": 3
   },
   "file_extension": ".py",
   "mimetype": "text/x-python",
   "name": "python",
   "nbconvert_exporter": "python",
   "pygments_lexer": "ipython3",
   "version": "3.7.4"
  }
 },
 "nbformat": 4,
 "nbformat_minor": 4
}
